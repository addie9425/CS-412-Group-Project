{
  "nbformat": 4,
  "nbformat_minor": 0,
  "metadata": {
    "colab": {
      "provenance": []
    },
    "kernelspec": {
      "name": "python3",
      "display_name": "Python 3"
    },
    "language_info": {
      "name": "python"
    }
  },
  "cells": [
    {
      "cell_type": "code",
      "execution_count": null,
      "metadata": {
        "id": "yMRbbt_XyiUK"
      },
      "outputs": [],
      "source": [
        "#\n",
        "# CS 412 - Group Project\n",
        "#\n",
        "\n",
        "#\n",
        "# Author: Shiladitya\n",
        "#\n",
        "\n",
        "#\n",
        "# Importing Dataset: Predict Students' Dropout and Academic Success\n",
        "# Link: https://archive.ics.uci.edu/dataset/697/predict+students+dropout+and+academic+success\n",
        "\n",
        "#\n",
        "# Dataset Description: A dataset created from a higher education institution (acquired from several disjoint databases)\n",
        "# related to students enrolled in different undergraduate degrees, such as agronomy, design, education, nursing, journalism,\n",
        "# management, social service, and technologies. The dataset includes information known at the time of student enrollment\n",
        "# (academic path, demographics, and social-economic factors) and the students' academic performance at the end of the first\n",
        "# and second semesters. The data is used to build classification models to predict students' dropout and academic sucess.\n",
        "# The problem is formulated as a three category classification task, in which there is a strong imbalance towards one of the classes.\n",
        "#\n",
        "\n",
        "# Dataset Citation: Realinho,Valentim, Vieira Martins,Mónica, Machado,Jorge, and Baptista,Luís. (2021). Predict Students' Dropout and Academic Success. UCI Machine Learning Repository. https://doi.org/10.24432/C5MC89.\n",
        "\n",
        "#\n",
        "# N(students) instances = 4424, Num_features = 36\n",
        "#\n",
        "\n",
        "\n",
        "# Importing...\n",
        "\n",
        "!pip install ucimlrepo\n",
        "\n",
        "from ucimlrepo import fetch_ucirepo\n",
        "\n",
        "# fetch dataset\n",
        "predict_students_dropout_and_academic_success = fetch_ucirepo(id=697)\n",
        "\n",
        "# data (as pandas dataframes)\n",
        "X = predict_students_dropout_and_academic_success.data.features\n",
        "y = predict_students_dropout_and_academic_success.data.targets\n",
        "\n",
        "# metadata\n",
        "print(predict_students_dropout_and_academic_success.metadata)\n",
        "\n",
        "# variable information\n",
        "print(predict_students_dropout_and_academic_success.variables)\n",
        "\n"
      ]
    },
    {
      "cell_type": "code",
      "source": [
        "# Libraries:\n",
        "import pandas as pd\n",
        "\n",
        "# Visualization libraries\n",
        "import matplotlib.pyplot as plt\n",
        "import seaborn as sns\n",
        "\n",
        "# sklearn library\n",
        "from sklearn.model_selection import train_test_split\n",
        "from sklearn.linear_model import LogisticRegression\n",
        "from sklearn.svm import SVC\n",
        "from sklearn.metrics import accuracy_score, classification_report\n",
        "from sklearn.neighbors import KNeighborsClassifier\n"
      ],
      "metadata": {
        "colab": {
          "base_uri": "https://localhost:8080/",
          "height": 54
        },
        "id": "ZSI73P8xEW39",
        "outputId": "8baf1af6-3466-42f6-a975-14c2ca0c17ac"
      },
      "execution_count": 40,
      "outputs": [
        {
          "output_type": "execute_result",
          "data": {
            "text/plain": [
              "'\\n# EDA:\\n\\n# need data in pandas dataframe\\nstudent_data = predict_students_dropout_and_academic_success.data\\nstudent_df = pd.DataFrame(student_data.features, columns = student_data.feature_names)\\nstudent_df[\\'Target\\'] = student_data.targets\\n\\n# sample view\\nprint(\"\\n\\n View of top 5 rows\")\\nprint(student_df.head())\\n\\n# summary stats\\nprint(\"\\n\\n Variable summary statistic\")\\nprint(student_df.describe())\\n\\n# missing values check\\nprint(\"\\nMissing values:\")\\nprint(student_df.isnull().sum())\\n'"
            ],
            "application/vnd.google.colaboratory.intrinsic+json": {
              "type": "string"
            }
          },
          "metadata": {},
          "execution_count": 40
        }
      ]
    },
    {
      "cell_type": "code",
      "source": [
        "# Split into train and test\n",
        "\n",
        "X_train, X_test, y_train, y_test = train_test_split(X, y, test_size = 0.2, random_state = 42)\n",
        "\n",
        "y = y.ravel()\n",
        "\n",
        "# Logistic Regression\n",
        "logistic_model = LogisticRegression(max_iter = 10000)\n",
        "logistic_model.fit(X_train, y_train)\n",
        "logistic_predictions = logistic_model.predict(X_test)\n",
        "logistic_accuracy = accuracy_score(y_test, logistic_predictions)\n",
        "\n",
        "print(\"Logistic Regression Accuracy:\", logistic_accuracy)\n",
        "print(\"Logistic Regression Classification Report:\")\n",
        "print(classification_report(y_test, logistic_predictions))\n"
      ],
      "metadata": {
        "colab": {
          "base_uri": "https://localhost:8080/"
        },
        "id": "U3IR3IE9EehL",
        "outputId": "fc1549be-5fac-4a67-cd36-031ccae90303"
      },
      "execution_count": 50,
      "outputs": [
        {
          "output_type": "stream",
          "name": "stdout",
          "text": [
            "Logistic Regression Accuracy: 0.751412429378531\n",
            "Logistic Regression Classification Report:\n",
            "              precision    recall  f1-score   support\n",
            "\n",
            "     Dropout       0.82      0.77      0.79       316\n",
            "    Enrolled       0.44      0.27      0.34       151\n",
            "    Graduate       0.77      0.91      0.83       418\n",
            "\n",
            "    accuracy                           0.75       885\n",
            "   macro avg       0.68      0.65      0.65       885\n",
            "weighted avg       0.73      0.75      0.73       885\n",
            "\n"
          ]
        }
      ]
    },
    {
      "cell_type": "code",
      "source": [
        "# Support Vector Machine\n",
        "svm_model = SVC(kernel='linear')\n",
        "svm_model.fit(X_train, y_train)\n",
        "svm_predictions = svm_model.predict(X_test)\n",
        "svm_accuracy = accuracy_score(y_test, svm_predictions)\n",
        "\n",
        "print(\"\\nSupport Vector Machine Accuracy:\", svm_accuracy)\n",
        "print(\"Support Vector Machine Classification Report:\")\n",
        "print(classification_report(y_test, svm_predictions))"
      ],
      "metadata": {
        "colab": {
          "base_uri": "https://localhost:8080/"
        },
        "id": "5_x9u8E1PvYF",
        "outputId": "5b2f53ee-f32e-46ab-dfb9-9d667632273c"
      },
      "execution_count": 51,
      "outputs": [
        {
          "output_type": "stream",
          "name": "stdout",
          "text": [
            "\n",
            "Support Vector Machine Accuracy: 0.7480225988700565\n",
            "Support Vector Machine Classification Report:\n",
            "              precision    recall  f1-score   support\n",
            "\n",
            "     Dropout       0.81      0.76      0.78       316\n",
            "    Enrolled       0.46      0.24      0.31       151\n",
            "    Graduate       0.76      0.93      0.83       418\n",
            "\n",
            "    accuracy                           0.75       885\n",
            "   macro avg       0.67      0.64      0.64       885\n",
            "weighted avg       0.72      0.75      0.73       885\n",
            "\n"
          ]
        }
      ]
    },
    {
      "cell_type": "code",
      "source": [
        "\n",
        "# K-Nearest Neighbors\n",
        "knn_model = KNeighborsClassifier(n_neighbors = 5) # n_neighbours can be adjusted\n",
        "knn_model.fit(X_train, y_train)\n",
        "knn_predictions = knn_model.predict(X_test)\n",
        "knn_accuracy = accuracy_score(y_test, knn_predictions)\n",
        "\n",
        "print(\"\\nK-Nearest Neighbors Accuracy:\", knn_accuracy)\n",
        "print(\"K-Nearest Neighbors Classification Report:\")\n",
        "print(classification_report(y_test, knn_predictions))"
      ],
      "metadata": {
        "colab": {
          "base_uri": "https://localhost:8080/"
        },
        "id": "9oSVfX6jQlQe",
        "outputId": "8b4174f3-83ca-468b-a2f5-3bfbb9020f3f"
      },
      "execution_count": 52,
      "outputs": [
        {
          "output_type": "stream",
          "name": "stdout",
          "text": [
            "\n",
            "K-Nearest Neighbors Accuracy: 0.6090395480225989\n",
            "K-Nearest Neighbors Classification Report:\n",
            "              precision    recall  f1-score   support\n",
            "\n",
            "     Dropout       0.66      0.56      0.60       316\n",
            "    Enrolled       0.36      0.26      0.31       151\n",
            "    Graduate       0.64      0.77      0.70       418\n",
            "\n",
            "    accuracy                           0.61       885\n",
            "   macro avg       0.55      0.53      0.54       885\n",
            "weighted avg       0.60      0.61      0.60       885\n",
            "\n"
          ]
        }
      ]
    }
  ]
}